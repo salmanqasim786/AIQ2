{
 "cells": [
  {
   "cell_type": "code",
   "execution_count": 2,
   "metadata": {},
   "outputs": [
    {
     "name": "stdout",
     "output_type": "stream",
     "text": [
      "Collecting package metadata (repodata.json): ...working... done\n",
      "Solving environment: ...working... done\n",
      "\n",
      "# All requested packages already installed.\n",
      "\n",
      "\n",
      "Note: you may need to restart the kernel to use updated packages.\n"
     ]
    }
   ],
   "source": [
    "conda install pillow"
   ]
  },
  {
   "cell_type": "code",
   "execution_count": 57,
   "metadata": {},
   "outputs": [
    {
     "name": "stdout",
     "output_type": "stream",
     "text": [
      "Found directory: photos\n",
      "\t1.jpg\n",
      "\t10.jpg\n",
      "\t11.jpg\n",
      "\t12.jpg\n",
      "\t13.jpg\n",
      "\t14.jpg\n",
      "\t15.jpg\n",
      "\t16.jpg\n",
      "\t17.jpg\n",
      "\t18.jpg\n",
      "\t19.jpg\n",
      "\t2.jpg\n",
      "\t20.jpg\n",
      "\t3.jpg\n",
      "\t4.jpg\n",
      "\t5.jpg\n",
      "\t6.jpg\n",
      "\t7.jpg\n",
      "\t8.jpg\n",
      "\t9.jpg\n",
      "\tMulti images array.ipynb\n"
     ]
    },
    {
     "data": {
      "text/plain": [
       "'Multi images array.ipynb'"
      ]
     },
     "execution_count": 57,
     "metadata": {},
     "output_type": "execute_result"
    }
   ],
   "source": [
    "import numpy as np\n",
    "import os\n",
    "import matplotlib.pyplot as plt\n",
    "import matplotlib.image as img\n",
    "from PIL import Image as im\n",
    "images = np.zeros([20,300,300,3])\n",
    "rootDir = 'photos'\n",
    "list1 = []\n",
    "for dirName, subdirList, fileList in os.walk(rootDir):\n",
    "    print('Found directory: %s' % dirName)\n",
    "for fname in fileList:\n",
    "    print('\\t%s' % fname)\n",
    "    list1.append(fname)\n",
    "list1.pop()"
   ]
  },
  {
   "cell_type": "code",
   "execution_count": 58,
   "metadata": {},
   "outputs": [
    {
     "name": "stdout",
     "output_type": "stream",
     "text": [
      "<PIL.JpegImagePlugin.JpegImageFile image mode=RGB size=275x183 at 0x135B015B5F8>\n"
     ]
    }
   ],
   "source": [
    "img1 = im.open('photos/1.jpg')\n",
    "print(img1)"
   ]
  },
  {
   "cell_type": "code",
   "execution_count": 69,
   "metadata": {},
   "outputs": [
    {
     "name": "stdout",
     "output_type": "stream",
     "text": [
      "[[[252 252 252]\n",
      "  [252 252 252]\n",
      "  [253 253 253]\n",
      "  ...\n",
      "  [253 253 253]\n",
      "  [253 253 253]\n",
      "  [252 252 252]]\n",
      "\n",
      " [[252 252 252]\n",
      "  [252 252 252]\n",
      "  [253 253 253]\n",
      "  ...\n",
      "  [253 253 253]\n",
      "  [253 253 253]\n",
      "  [252 252 252]]\n",
      "\n",
      " [[252 252 252]\n",
      "  [253 253 253]\n",
      "  [253 253 253]\n",
      "  ...\n",
      "  [253 253 253]\n",
      "  [253 253 253]\n",
      "  [253 253 253]]\n",
      "\n",
      " ...\n",
      "\n",
      " [[253 253 253]\n",
      "  [253 253 253]\n",
      "  [254 254 254]\n",
      "  ...\n",
      "  [254 254 254]\n",
      "  [254 254 254]\n",
      "  [253 253 253]]\n",
      "\n",
      " [[253 253 253]\n",
      "  [253 253 253]\n",
      "  [254 254 254]\n",
      "  ...\n",
      "  [254 254 254]\n",
      "  [254 254 254]\n",
      "  [253 253 253]]\n",
      "\n",
      " [[253 253 253]\n",
      "  [253 253 253]\n",
      "  [254 254 254]\n",
      "  ...\n",
      "  [254 254 254]\n",
      "  [254 254 254]\n",
      "  [253 253 253]]]\n",
      "uint8 (20, 200, 200, 3)\n"
     ]
    }
   ],
   "source": [
    "list5 = []\n",
    "for i in list1:\n",
    "    img1 = im.open(i)\n",
    "    img1 = img1.resize((200,200))\n",
    "    list5.append(np.array(img1))\n",
    "print(list5[4])\n",
    "arr = np.array(list5)\n",
    "print(arr.dtype,arr.shape)"
   ]
  },
  {
   "cell_type": "code",
   "execution_count": null,
   "metadata": {},
   "outputs": [],
   "source": []
  }
 ],
 "metadata": {
  "kernelspec": {
   "display_name": "Python 3",
   "language": "python",
   "name": "python3"
  },
  "language_info": {
   "codemirror_mode": {
    "name": "ipython",
    "version": 3
   },
   "file_extension": ".py",
   "mimetype": "text/x-python",
   "name": "python",
   "nbconvert_exporter": "python",
   "pygments_lexer": "ipython3",
   "version": "3.7.3"
  }
 },
 "nbformat": 4,
 "nbformat_minor": 2
}
